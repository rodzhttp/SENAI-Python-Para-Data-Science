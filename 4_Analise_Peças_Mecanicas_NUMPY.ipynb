{
  "nbformat": 4,
  "nbformat_minor": 0,
  "metadata": {
    "colab": {
      "provenance": [],
      "authorship_tag": "ABX9TyNRO2u1bJq2chrCqKoKH3QQ",
      "include_colab_link": true
    },
    "kernelspec": {
      "name": "python3",
      "display_name": "Python 3"
    },
    "language_info": {
      "name": "python"
    }
  },
  "cells": [
    {
      "cell_type": "markdown",
      "metadata": {
        "id": "view-in-github",
        "colab_type": "text"
      },
      "source": [
        "<a href=\"https://colab.research.google.com/github/rodzhttp/SENAI-Python-Para-Data-Science/blob/main/4_Analise_Pe%C3%A7as_Mecanicas_NUMPY.ipynb\" target=\"_parent\"><img src=\"https://colab.research.google.com/assets/colab-badge.svg\" alt=\"Open In Colab\"/></a>"
      ]
    },
    {
      "cell_type": "markdown",
      "source": [
        "**Uma fábrica de peças mecânicas registrou sua produção de unidades ao longo de 4 semanas para 3 linhas de produção. Cada linha fabrica um tipo diferente de peça (A, B e C). Os dados foram organizados da seguinte forma:**\n",
        "\n",
        "Linhas (0 a 3): semanas 1 a 4\n",
        "\n",
        "Colunas (0 a 2): peças A, B e C\n",
        "\n",
        "- Total de peças produzidas por semana\n",
        "Calcule a soma total de peças produzidas em cada semana.\n",
        "\n",
        "- Produção total de cada tipo de peça\n",
        "Calcule o total produzido das peças A, B e C ao longo das 4 semanas.\n",
        "\n",
        "- Semana com maior produção total.\n",
        "Identifique qual semana teve a maior produção somando todos os tipos de peças.\n",
        "\n",
        "- Média semanal de produção por tipo de peça\n",
        "Calcule a média semanal de produção para cada tipo de peça.\n",
        "\n",
        "- Peça com maior média de produção.\n",
        "Indique qual peça (A, B ou C) teve a maior média de produção nas 4 semanas.\n",
        "\n",
        "- Crescimento semanal da produção da peça A.\n",
        "Calcule a variação percentual semanal da produção da peça A.\n",
        "\n",
        "- Peças abaixo da média.\n",
        "Liste as semanas em que alguma peça foi produzida em quantidade abaixo da média do seu tipo."
      ],
      "metadata": {
        "id": "OVGd8-QHwV4m"
      }
    },
    {
      "cell_type": "code",
      "source": [
        "import statistics as st\n",
        "import numpy as np\n",
        "import random\n",
        "\n",
        "#dados = np.random.randint(100, 301, size=(3, 4)) # radint gera numeros inteiros\n",
        "#print(dados)"
      ],
      "metadata": {
        "id": "hTwE6VNJlbov"
      },
      "execution_count": 46,
      "outputs": []
    },
    {
      "cell_type": "code",
      "source": [
        "# array (dados de produção)\n",
        "prod = np.array([\n",
        "  # ---- semana ----\n",
        "  [265, 158, 107, 282],    # A (linha 0)\n",
        "  [268, 170, 259, 180],    # B (linha 1)\n",
        "  [247, 167, 203, 192] ])  # C (linha 2)\n",
        "\n",
        "# isolar elemento\n",
        "# prod[linha, coluna] (extrutura)\n",
        "print(\"-----Elementos isolados-----\\n\")\n",
        "print(prod[0, 0], \"linha A, coluna 0\",)\n",
        "print(prod[1, 1], \"linha B, coluna 1\")\n",
        "print(prod[2, 2], \"linha B, coluna 2\")\n",
        "\n",
        "# isolar linha\n",
        "prod_A = prod[0]\n",
        "prod_B = prod[1]\n",
        "prod_C = prod[2]\n",
        "print(\"\\n------Linhas isoladas-------\\n\")\n",
        "print(\"linha A\", prod_A, \"\\nlinha B\", prod_B, \"\\nlinha C\", prod_C)\n",
        "\n",
        "# isolar coluna\n",
        "# prod[:, índice_da_coluna] (estrutura)\n",
        "# O ( : ) significa “todas as linhas”, e o número indica qual coluna você quer.\n",
        "print(\"\\n------Colunas isoladas------\\n\")\n",
        "semana1 = prod[:, 0]\n",
        "semana2 = prod[:, 1]\n",
        "semana3 = prod[:, 2]\n",
        "semana4 = prod[:, 3]\n",
        "print(f\"Semana 1: {semana1} \\nSemana 2: {semana2} \\nSemana 3: {semana3} \\nSemana 4: {semana4}\")\n",
        "\n",
        "# modificar\n",
        "# prod[0, 0] = 999 (muda o valor 265 para 999)"
      ],
      "metadata": {
        "id": "sphckYeSoVBq",
        "colab": {
          "base_uri": "https://localhost:8080/"
        },
        "outputId": "d4437371-68c9-4468-89b5-72dd6b794dbd"
      },
      "execution_count": 64,
      "outputs": [
        {
          "output_type": "stream",
          "name": "stdout",
          "text": [
            "-----Elementos isolados-----\n",
            "\n",
            "265 linha A, coluna 0\n",
            "170 linha B, coluna 1\n",
            "203 linha B, coluna 2\n",
            "\n",
            "------Linhas isoladas-------\n",
            "\n",
            "linha A [265 158 107 282] \n",
            "linha B [268 170 259 180] \n",
            "linha C [247 167 203 192]\n",
            "\n",
            "------Colunas isoladas------\n",
            "\n",
            "Semana 1: [265 268 247] \n",
            "Semana 2: [158 170 167] \n",
            "Semana 3: [107 259 203] \n",
            "Semana 4: [282 180 192]\n"
          ]
        }
      ]
    },
    {
      "cell_type": "code",
      "source": [
        "# Total de peças produzidas por semana\n",
        "# Calcule a soma total de peças produzidas em cada semana.\n",
        "\n",
        "print(\"\\n--- Total de peças produzidas por semana ---\\n\")\n",
        "total_semana1 = sum(semana1)\n",
        "total_semana2 = sum(semana2)\n",
        "total_semana3 = sum(semana3)\n",
        "total_semana4 = sum(semana4)\n",
        "print(f\"Total Semana 1: {total_semana1} {semana1}\")\n",
        "print(f\"Total Semana 2: {total_semana2} {semana2}\")\n",
        "print(f\"Total Semana 3: {total_semana3} {semana3}\")\n",
        "print(f\"Total Semana 4: {total_semana4} {semana4}\")"
      ],
      "metadata": {
        "id": "qYaMQR0WrqNn",
        "colab": {
          "base_uri": "https://localhost:8080/"
        },
        "outputId": "b323f4ba-4cc0-4d65-aa0b-a41ab8e061da"
      },
      "execution_count": 3,
      "outputs": [
        {
          "output_type": "stream",
          "name": "stdout",
          "text": [
            "\n",
            "--- Total de peças produzidas por semana ---\n",
            "\n",
            "Total Semana 1: 780 [265 268 247]\n",
            "Total Semana 2: 495 [158 170 167]\n",
            "Total Semana 3: 569 [107 259 203]\n",
            "Total Semana 4: 654 [282 180 192]\n"
          ]
        }
      ]
    },
    {
      "cell_type": "code",
      "source": [
        "# Produção total de cada tipo de peça\n",
        "# Calcule o total produzido das peças A, B e C ao longo das 4 semanas.\n",
        "\n",
        "print(\"\\n--- Total de peças produzidas por tipo de peça ---\\n\")\n",
        "total_A = sum(prod_A)\n",
        "total_B = sum(prod_B)\n",
        "total_C = sum(prod_C)\n",
        "print(f\"Total de Peças Linha A: {total_A} {prod_A}\")\n",
        "print(f\"Total de Peças Linha B: {total_B} {prod_B}\")\n",
        "print(f\"Total de Peças Linha C: {total_C} {prod_C}\")"
      ],
      "metadata": {
        "id": "PdsTHhlv34nb",
        "colab": {
          "base_uri": "https://localhost:8080/"
        },
        "outputId": "fa09f6d1-daa5-4967-9c72-bacc9af39a82"
      },
      "execution_count": 4,
      "outputs": [
        {
          "output_type": "stream",
          "name": "stdout",
          "text": [
            "\n",
            "--- Total de peças produzidas por tipo de peça ---\n",
            "\n",
            "Total de Peças Linha A: 812 [265 158 107 282]\n",
            "Total de Peças Linha B: 877 [268 170 259 180]\n",
            "Total de Peças Linha C: 809 [247 167 203 192]\n"
          ]
        }
      ]
    },
    {
      "cell_type": "code",
      "source": [
        "# Semana com maior produção total. Identifique qual semana\n",
        "# teve a maior produção somando todos os tipos de peças.\n",
        "\n",
        "totais = [total_semana1, total_semana2, total_semana3, total_semana4] # Armazena os totais em uma lista\n",
        "semanas = [\"semana 1\", \"semana 2\", \"semana 3\", \"semana 4\"] # Lista com os nomes das semanas\n",
        "\n",
        "indice_maior = totais.index(max(totais)) # Descobre o índice da maior produção\n",
        "\n",
        "# Usa o índice para pegar o nome da semana correspondente\n",
        "maior_producao = totais[indice_maior] # recebe o maior indice da lista \"totais\"\n",
        "semana_maior_producao = semanas[indice_maior] # recebe o maior indice da lista \"sem\"\n",
        "\n",
        "print(f\"A {semana_maior_producao} teve a maior produção, total de {maior_producao}\")"
      ],
      "metadata": {
        "id": "r9dNPsm3FZaD",
        "colab": {
          "base_uri": "https://localhost:8080/"
        },
        "outputId": "1ba06151-1ec1-423c-df98-cf66f6b4085a"
      },
      "execution_count": 5,
      "outputs": [
        {
          "output_type": "stream",
          "name": "stdout",
          "text": [
            "A semana 1 teve a maior produção, total de 780\n"
          ]
        }
      ]
    },
    {
      "cell_type": "code",
      "source": [
        "# Média semanal de produção por tipo de peça. Calcule a média semanal de produção para cada tipo de peça.\n",
        "\n",
        "linhas, colunas = prod.shape # da o tamanho (shape) de prod a linhas e colunas\n",
        "\n",
        "for i in range(linhas): # percorre as linhas\n",
        "    for j in range(colunas): # percorre as colunas\n",
        "        media = prod[i, j] / 5 # dalcula a média\n",
        "        print(f\"Média diária da peça {chr(65 + i)} na semana {j+1}: {media}\")"
      ],
      "metadata": {
        "id": "YVF7xqSsHLgg",
        "colab": {
          "base_uri": "https://localhost:8080/"
        },
        "outputId": "03c4190f-8ab4-4665-e8e5-80af98ca683a"
      },
      "execution_count": 74,
      "outputs": [
        {
          "output_type": "stream",
          "name": "stdout",
          "text": [
            "Média diária da peça A na semana 1: 53.0\n",
            "Média diária da peça A na semana 2: 31.6\n",
            "Média diária da peça A na semana 3: 21.4\n",
            "Média diária da peça A na semana 4: 56.4\n",
            "Média diária da peça B na semana 1: 53.6\n",
            "Média diária da peça B na semana 2: 34.0\n",
            "Média diária da peça B na semana 3: 51.8\n",
            "Média diária da peça B na semana 4: 36.0\n",
            "Média diária da peça C na semana 1: 49.4\n",
            "Média diária da peça C na semana 2: 33.4\n",
            "Média diária da peça C na semana 3: 40.6\n",
            "Média diária da peça C na semana 4: 38.4\n"
          ]
        }
      ]
    },
    {
      "cell_type": "code",
      "source": [
        "# Peça com maior média de produção. Indique qual peça teve a maior média de produção nas 4 semanas.\n",
        "\n",
        "prod_A = prod[0]\n",
        "media_A = sum(prod_A) / 4\n",
        "prod_B = prod[1]\n",
        "media_B = sum(prod_B) / 4\n",
        "prod_C = prod[2]\n",
        "media_C = sum(prod_C) / 4\n",
        "\n",
        "medias_ABC = [media_A, media_B, media_C] # setando numa lista os valores das medias\n",
        "linhas_prod = ['A', 'B', 'C'] # setando numa lista os nomes das linhas de produção\n",
        "indice_max = medias_ABC.index(max(medias_ABC)) # setando o indice com maior valor da lista\n",
        "valor_maior_media = max(medias_ABC) # setando o valor maximo da lista de medias\n",
        "maior_media_linha = linhas_prod[indice_max] # setando o produto com maior media\n",
        "\n",
        "print(f\"A maior média foi de {valor_maior_media} do produto {maior_media_linha}\")"
      ],
      "metadata": {
        "id": "I5aqwF_1GtWf",
        "colab": {
          "base_uri": "https://localhost:8080/"
        },
        "outputId": "ffd81384-64de-40d5-eb26-9c5be02c3fdd"
      },
      "execution_count": 44,
      "outputs": [
        {
          "output_type": "stream",
          "name": "stdout",
          "text": [
            "A maior média foi de 219.25 do produto B\n"
          ]
        }
      ]
    },
    {
      "cell_type": "code",
      "source": [
        "# Crescimento semanal da produção da peça A. Calcule a variação percentual semanal da produção da peça A.\n",
        "\n",
        "variacao_A_semana1 = np.diff(prod[:, 0])\n",
        "variacao_A_semana2 = np.var(prod[:, 1])\n",
        "variacao_A_semana3 = np.var(prod[:, 2])\n",
        "variacao_A_semana4 = np.var(prod[:, 3])\n",
        "print(f\"Variancia peça A semana 1: {variacao_A_semana1}\")\n",
        "print(f\"Variancia peça A semana 2: {variacao_A_semana2}\")\n",
        "print(f\"Variancia peça A semana 3: {variacao_A_semana3}\")\n",
        "print(f\"Variancia peça A semana 4: {variacao_A_semana4}\")\n",
        "\n",
        "# Cálculo da variação percentual semanal entre as semanas\n",
        "variacao_percentual = np.diff(prod, axis=1) / prod[:, :-1] * 100\n",
        "\n",
        "# Exibindo os resultados de forma simplificada\n",
        "for i in range(variacao_percentual.shape[0]):\n",
        "    print(f\"Variação percentual para a peça A na semana {i+1} para semana {i+2}: {variacao_percentual[i, 0]:.2f}%\")\n"
      ],
      "metadata": {
        "colab": {
          "base_uri": "https://localhost:8080/"
        },
        "id": "BcIBt0ULGk2n",
        "outputId": "868d51fc-850d-4ed5-fe73-01d280d019e5"
      },
      "execution_count": 68,
      "outputs": [
        {
          "output_type": "stream",
          "name": "stdout",
          "text": [
            "Variancia peça A semana 1: 86.0\n",
            "Variancia peça A semana 2: 26.0\n",
            "Variancia peça A semana 3: 3939.555555555555\n",
            "Variancia peça A semana 4: 2072.0\n",
            "Variação percentual para a peça A na semana 1 para semana 2: -40.38%\n",
            "Variação percentual para a peça A na semana 2 para semana 3: -36.57%\n",
            "Variação percentual para a peça A na semana 3 para semana 4: -32.39%\n"
          ]
        }
      ]
    }
  ]
}