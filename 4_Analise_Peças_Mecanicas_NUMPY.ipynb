{
  "nbformat": 4,
  "nbformat_minor": 0,
  "metadata": {
    "colab": {
      "private_outputs": true,
      "provenance": [],
      "authorship_tag": "ABX9TyMvXf/oEz9NIfXdl+qzJxU0",
      "include_colab_link": true
    },
    "kernelspec": {
      "name": "python3",
      "display_name": "Python 3"
    },
    "language_info": {
      "name": "python"
    }
  },
  "cells": [
    {
      "cell_type": "markdown",
      "metadata": {
        "id": "view-in-github",
        "colab_type": "text"
      },
      "source": [
        "<a href=\"https://colab.research.google.com/github/rodzhttp/SENAI-Python-Para-Data-Science/blob/main/4_Analise_Pe%C3%A7as_Mecanicas_NUMPY.ipynb\" target=\"_parent\"><img src=\"https://colab.research.google.com/assets/colab-badge.svg\" alt=\"Open In Colab\"/></a>"
      ]
    },
    {
      "cell_type": "markdown",
      "source": [
        "**Uma fábrica de peças mecânicas registrou sua produção de unidades ao longo de 4 semanas para 3 linhas de produção. Cada linha fabrica um tipo diferente de peça (A, B e C). Os dados foram organizados da seguinte forma:**\n",
        "\n",
        "Linhas (0 a 3): semanas 1 a 4\n",
        "\n",
        "Colunas (0 a 2): peças A, B e C\n",
        "\n",
        "- Total de peças produzidas por semana\n",
        "Calcule a soma total de peças produzidas em cada semana.\n",
        "\n",
        "- Produção total de cada tipo de peça\n",
        "Calcule o total produzido das peças A, B e C ao longo das 4 semanas.\n",
        "\n",
        "- Semana com maior produção total.\n",
        "Identifique qual semana teve a maior produção somando todos os tipos de peças.\n",
        "\n",
        "- Média semanal de produção por tipo de peça\n",
        "Calcule a média semanal de produção para cada tipo de peça.\n",
        "\n",
        "- Peça com maior média de produção\n",
        "Indique qual peça (A, B ou C) teve a maior média de produção nas 4 semanas.\n",
        "\n",
        "- Crescimento semanal da produção da peça A\n",
        "Calcule a variação percentual semanal da produção da peça A.\n",
        "\n",
        "- Peças abaixo da média\n",
        "Liste as semanas em que alguma peça foi produzida em quantidade abaixo da média do seu tipo."
      ],
      "metadata": {
        "id": "OVGd8-QHwV4m"
      }
    },
    {
      "cell_type": "code",
      "source": [
        "import statistics as st\n",
        "import numpy as np\n",
        "import random\n",
        "\n",
        "#dados = np.random.randint(100, 301, size=(3, 4)) # radint gera numeros inteiros\n",
        "print(dados)"
      ],
      "metadata": {
        "id": "hTwE6VNJlbov"
      },
      "execution_count": null,
      "outputs": []
    },
    {
      "cell_type": "code",
      "source": [
        "# array (dados de produção)\n",
        "prod = np.array([\n",
        "  # ---- semana ----\n",
        "  [265, 158, 107, 282],    # A (linha 0)\n",
        "  [268, 170, 259, 180],    # B (linha 1)\n",
        "  [247, 167, 203, 192] ])  # C (linha 2)\n",
        "\n",
        "# isolar elemento\n",
        "# prod[linha, coluna] (extrutura)\n",
        "print(\"-----Elementos isolados-----\\n\")\n",
        "print(prod[0, 0], \"linha A, coluna 0\",)\n",
        "print(prod[1, 1], \"linha B, coluna 1\")\n",
        "print(prod[2, 2], \"linha B, coluna 2\")\n",
        "\n",
        "# modificar\n",
        "# prod[0, 0] = 999 (muda o valor 265 para 999)\n",
        "\n",
        "# isolar linha\n",
        "prod_A = prod[0]\n",
        "prod_B = prod[1]\n",
        "prod_C = prod[2]\n",
        "print(\"\\n------Linhas isoladas-------\\n\")\n",
        "print(\"linha A\", prod_A, \"\\nlinha B\", prod_B, \"\\nlinha C\", prod_C)\n",
        "\n",
        "# isolar coluna\n",
        "# prod[:, índice_da_coluna] (estrutura)\n",
        "# O ( : ) significa “todas as linhas”, e o número indica qual coluna você quer.\n",
        "print(\"\\n------Colunas isoladas------\\n\")\n",
        "semana1 = prod[:, 0]\n",
        "semana2 = prod[:, 1]\n",
        "semana3 = prod[:, 2]\n",
        "semana4 = prod[:, 3]\n",
        "print(f\"Semana 1: {semana1} \\nSemana 2: {semana2} \\nSemana 3: {semana3} \\nSemana 4: {semana4}\")"
      ],
      "metadata": {
        "id": "sphckYeSoVBq"
      },
      "execution_count": null,
      "outputs": []
    },
    {
      "cell_type": "code",
      "source": [
        "# Total de peças produzidas por semana\n",
        "# Calcule a soma total de peças produzidas em cada semana.\n",
        "\n",
        "print(\"--- Dados gerados por semana ---\\n\")\n",
        "\n",
        "semana1 = (prod[0])\n",
        "print(\"Semana 1:\", semana1)\n",
        "semana2 = (prod[1])\n",
        "print(\"Semana 2:\", semana2)\n",
        "semana3 = (prod[2])\n",
        "print(\"Semana 3:\", semana3)\n",
        "semana4 = (prod[3])\n",
        "print(\"Semana 4:\",semana4)\n",
        "\n",
        "print(\"\\n--- Total de peças produzidas por semana ---\\n\")\n",
        "\n",
        "total_semana1 = sum(prod[0])\n",
        "print(\"Semana 1:\", total_semana1)\n",
        "total_semana2 = sum(prod[1])\n",
        "print(\"Semana 2:\", total_semana2)\n",
        "total_semana3 = sum(prod[2])\n",
        "print(\"Semana 3:\", total_semana3)\n",
        "total_semana4 = sum(prod[3])\n",
        "print(\"Semana 4:\", total_semana4)\n"
      ],
      "metadata": {
        "id": "qYaMQR0WrqNn"
      },
      "execution_count": null,
      "outputs": []
    },
    {
      "cell_type": "code",
      "source": [
        "# Produção total de cada tipo de peça\n",
        "# Calcule o total produzido das peças A, B e C ao longo das 4 semanas.\n",
        "\n",
        "A = prod[0, 0] + prod[1, 0] + prod[2, 0] + prod[3, 0]\n",
        "B = prod[0, 1] + prod[1, 1] + prod[2, 1] + prod[3, 1]\n",
        "C = prod[0, 2] + prod[1, 2] + prod[2, 2] + prod[3, 2]\n",
        "\n",
        "print(\"Peça A:\", A)\n",
        "print(\"Peça B:\", B)\n",
        "print(\"Peça C:\", C)"
      ],
      "metadata": {
        "id": "PdsTHhlv34nb"
      },
      "execution_count": null,
      "outputs": []
    },
    {
      "cell_type": "code",
      "source": [
        "# Semana com maior produção total. Identifique qual semana\n",
        "# teve a maior produção somando todos os tipos de peças.\n",
        "\n",
        "totais = [total_semana1, total_semana2, total_semana3, total_semana4]\n",
        "semanas = [\"Semana 1\", \"Semana 2\", \"Semana 3\", \"Semana 4\"]\n",
        "maior_producao = max(totais)\n",
        "semana_maior_producao = semanas[totais.index(maior_producao)]\n",
        "\n",
        "print(f\"A {semana_maior_producao} teve a maior produção, total de {maior_producao}\")"
      ],
      "metadata": {
        "id": "r9dNPsm3FZaD"
      },
      "execution_count": null,
      "outputs": []
    },
    {
      "cell_type": "code",
      "source": [
        "# Média semanal de produção por tipo de peça. Calcule a média semanal de produção para cada tipo de peça.\n",
        "\n",
        "media_a = A / 5\n",
        "media_a\n"
      ],
      "metadata": {
        "id": "YVF7xqSsHLgg"
      },
      "execution_count": null,
      "outputs": []
    }
  ]
}