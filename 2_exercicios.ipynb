{
  "nbformat": 4,
  "nbformat_minor": 0,
  "metadata": {
    "colab": {
      "private_outputs": true,
      "provenance": [],
      "authorship_tag": "ABX9TyOAXL3XKIzbYEVRbHIGMbUA",
      "include_colab_link": true
    },
    "kernelspec": {
      "name": "python3",
      "display_name": "Python 3"
    },
    "language_info": {
      "name": "python"
    }
  },
  "cells": [
    {
      "cell_type": "markdown",
      "metadata": {
        "id": "view-in-github",
        "colab_type": "text"
      },
      "source": [
        "<a href=\"https://colab.research.google.com/github/rodzhttp/SENAI-Python-Para-Data-Science/blob/main/2_exercicios.ipynb\" target=\"_parent\"><img src=\"https://colab.research.google.com/assets/colab-badge.svg\" alt=\"Open In Colab\"/></a>"
      ]
    },
    {
      "cell_type": "code",
      "source": [
        "import random\n",
        "import statistics as st"
      ],
      "metadata": {
        "id": "w6gJ-u1WUH5B"
      },
      "execution_count": null,
      "outputs": []
    },
    {
      "cell_type": "code",
      "source": [
        "''' Crie um programa onde o usuário irá digitar 4 notas, exiba em tela as notas digitadas,\n",
        "a média das notas e se ele está APROVADO , em RECUPERAÇÂO , ou REPROVADO.\n",
        "\n",
        "Media abaixo de 5 --> REPROVADO\n",
        "Média entre 5 e 6.9 --> RECUPERACAO\n",
        "Média acima de 7 --> APROVADO '''\n",
        "\n",
        "nota1 = int(input(\"Nota 1: \"))\n",
        "nota2 = int(input(\"Nota 2: \"))\n",
        "nota3 = int(input(\"Nota 3: \"))\n",
        "nota4 = int(input(\"Nota 4: \"))\n",
        "\n",
        "media_notas = (nota1 + nota2 + nota3 + nota4) / 4\n",
        "print(\"Média:\", media_notas)\n",
        "\n",
        "if media_notas < 5:\n",
        "  print(\"Reprovado!\")\n",
        "elif media_notas < 7:\n",
        "  print(\"Recuperação!\")\n",
        "elif media_notas > 7:\n",
        "  print(\"Aprovado!\")"
      ],
      "metadata": {
        "id": "uyQRfWNQTzXy"
      },
      "execution_count": null,
      "outputs": []
    },
    {
      "cell_type": "code",
      "source": [
        "''' Crie um programa que irá receber valores, o usuário poderá digitar\n",
        "quantos valores ele quiser até ele digitar 0 mostre em tela os valores\n",
        "digitados e sua média '''\n",
        "\n",
        "print(\"Digite o valor que quiser (digite 0 pra sair):\")\n",
        "\n",
        "valores = []\n",
        "\n",
        "while True:\n",
        "  valor = int(input())\n",
        "  if valor == 0:\n",
        "    break\n",
        "  else:\n",
        "    valores.append(valor)\n",
        "\n",
        "print(\"\\nValores digitados: \")\n",
        "for v in valores:\n",
        "  print(v)\n",
        "\n",
        "media = st.mean(valores)\n",
        "print(\"\\nMédia dos valores digitados:\", {media})"
      ],
      "metadata": {
        "id": "E_WKYVd0XzMi"
      },
      "execution_count": null,
      "outputs": []
    },
    {
      "cell_type": "code",
      "source": [
        "''' Crie um programa que irá receber a lista de valores abaixo, e mostre em\n",
        "tela a MODA e quantas vezes ele aparece nessa lista '''\n",
        "\n",
        "lista1 = [ 1 , 7 , 3 , 8 , 6 , 1 , 7 , 7 , 0 , 3 , 6 , 71 , 7 ,\n",
        "8 , 0 , 7 , 3 , 1 , 6 , 3 , 1 , 3 , 7 , 6 , 9 , 7 , 7 , 3 , 7 , 0 , 7 , 1 , 7 , 9 ]\n",
        "\n",
        "lista2 = [ 35 , 37 , 36 , 34 , 38 , 35 , 37 , 37 , 33 , 36 , 38 , 37, 35 , 37 , 34 , 33 ,\n",
        "37 , 36 , 35 , 38 , 36 , 35 , 36 , 37 , 38 , 39 , 37 , 37 , 36 , 37 , 33 , 37 , 35 , 37 , 39 ]\n",
        "\n",
        "moda_lista1 = st.mode(lista1)\n",
        "frequencia1 = lista1.count(moda_lista1)\n",
        "print(f\"Moda da lista 1: {moda_lista1}\")\n",
        "print(f\"Aparece {frequencia1} vezes\")\n",
        "\n",
        "moda_lista2 = st.mode(lista2)\n",
        "frequencia2 = lista2.count(moda_lista2)\n",
        "print(f\"Moda da lista 2: {moda_lista2}\")\n",
        "print(f\"Aparece {frequencia2} vezes\")"
      ],
      "metadata": {
        "id": "VpaLtUZc-5Nh"
      },
      "execution_count": null,
      "outputs": []
    },
    {
      "cell_type": "code",
      "source": [
        "''' Crie um programa que receber a lista de valores abaixo, e mostre em tela a VARIANCIA e o DESVIO PADRÃO '''\n",
        "\n",
        "lista1 = [ 1 , 7 , 3 , 8 , 6 , 1 , 7 , 7 , 0 , 3 , 6 , 71 , 7 ,\n",
        "8 , 0 , 7 , 3 , 1 , 6 , 3 , 1 , 3 , 7 , 6 , 9 , 7 , 7 , 3 , 7 , 0 , 7 , 1 , 7 , 9 ]\n",
        "\n",
        "lista2 = [ 35 , 37 , 36 , 34 , 38 , 35 , 37 , 37 , 33 , 36 , 38 , 37, 35 , 37 , 34 , 33 ,\n",
        "37 , 36 , 35 , 38 , 36 , 35 , 36 , 37 , 38 , 39 , 37 , 37 , 36 , 37 , 33 , 37 , 35 , 37 , 39 ]\n",
        "\n",
        "variancia_lista1 = st.pvariance(lista1)\n",
        "print(\"Variância da lista1:\", round(variancia_lista1, 2))\n",
        "\n",
        "variancia_lista2 = st.pvariance(lista2)\n",
        "print(\"Variância da lista2:\", round(variancia_lista2, 2))\n",
        "\n",
        "dp_lista1 = st.pstdev(lista1)\n",
        "print(\"Desvio Padrão da lista1:\", round(dp_lista1, 2))\n",
        "\n",
        "dp_lista2 = st.pstdev(lista2)\n",
        "print(\"Desvio Padrão da lista2:\", round(dp_lista2, 2))"
      ],
      "metadata": {
        "id": "AbuuviExB9Kl"
      },
      "execution_count": null,
      "outputs": []
    },
    {
      "cell_type": "code",
      "source": [
        "'''Você está trabalhando com dados de avaliações de produtos (estrelas de 1 a 5)\n",
        "em uma plataforma de e-commerce. Você precisa entender qual é a avaliação mais comum\n",
        "e como as avaliações se distribuem, mesmo sem ferramentas de visualização.\n",
        "\n",
        "Descreva a avaliação mais comum.\n",
        "Interprete a média e a mediana das avaliações.\n",
        "Explique a dispersão das avaliações com base no desvio padrão.'''\n",
        "\n",
        "# Gerar 50 números aleatórios de 1 a 5\n",
        "avaliacoes = [random.randint(1, 5) for _ in range(50)]\n",
        "print(avaliacoes)\n",
        "\n",
        "# Avaliação mais frequente\n",
        "num_mais_frequente = st.mode(avaliacoes)\n",
        "print(f\"Avaliação mais frequente: {num_mais_frequente}\")\n",
        "\n",
        "# Quantidade de vezes que ele apareceu\n",
        "qtd = avaliacoes.count(num_mais_frequente)\n",
        "print(f\"Frequencia de avaliação: {qtd}\")\n",
        "\n",
        "# Media\n",
        "media = st.mean(avaliacoes)\n",
        "print(f\"Média de avaliações: {media}\")\n",
        "\n",
        "# Mediana\n",
        "mediana = st.median(avaliacoes)\n",
        "print(f\"Mediana de avaliações: {mediana}\")\n",
        "\n",
        "# Desvio padrão\n",
        "desvio_padrao = st.pstdev(avaliacoes)\n",
        "print(f\"Desvio Padrão:\", round(desvio_padrao, 2))\n",
        "\n",
        "# Rótulo de avaliações com base na média\n",
        "if media >= 4.5:\n",
        "    print(\"Avaliação Geral: Excelente\")\n",
        "elif media >= 3.5:\n",
        "    print(\"Avaliação Geral: Bom\")\n",
        "elif media >= 2.5:\n",
        "    print(\"Avaliação Geral: Mediano\")\n",
        "elif media >= 1.5:\n",
        "    print(\"Avaliação Geral: Ruim\")\n",
        "else:\n",
        "    print(\"Avaliação Geral: Péssimo\")"
      ],
      "metadata": {
        "id": "EnD-B6hJkb1N"
      },
      "execution_count": null,
      "outputs": []
    }
  ]
}