{
  "nbformat": 4,
  "nbformat_minor": 0,
  "metadata": {
    "colab": {
      "provenance": [],
      "authorship_tag": "ABX9TyOdqLAqidwaYPuxuyaeZqDu",
      "include_colab_link": true
    },
    "kernelspec": {
      "name": "python3",
      "display_name": "Python 3"
    },
    "language_info": {
      "name": "python"
    }
  },
  "cells": [
    {
      "cell_type": "markdown",
      "metadata": {
        "id": "view-in-github",
        "colab_type": "text"
      },
      "source": [
        "<a href=\"https://colab.research.google.com/github/rodzhttp/SENAI-Python-Para-Data-Science/blob/main/6_Desempenho_de_Vendas_e_An%C3%A1lise_de_Produtos_Gera%C3%A7%C3%A3o_de_Dados_Sint%C3%A9ticos_(NumPy_e_Pandas).ipynb\" target=\"_parent\"><img src=\"https://colab.research.google.com/assets/colab-badge.svg\" alt=\"Open In Colab\"/></a>"
      ]
    },
    {
      "cell_type": "markdown",
      "source": [
        "#**Desempenho de Vendas e Análise de Produtos - Geração de Dados Sintéticos (NumPy e Pandas):**\n",
        "\n",
        "###A \"TechGadgets Ltda.\" é uma empresa de tecnologia que vende diversos produtos eletrônicos. Você foi contratado para analisar o desempenho de vendas nos últimos meses, identificar tendências e visualizar os resultados. A empresa está interessada em entender as vendas totais, a distribuição das vendas por categoria de produto e a variação mensal.\n",
        "\n",
        "Utilize numpy para gerar os seguintes dados:\n",
        "- meses: Um array de 12 meses (de 1 a 12) representando um ano.\n",
        "- vendas_produto_A: Um array de 12 valores de vendas para o \"Produto A\", com média de 1000 e desvio padrão de 150 (use np.random.normal). Certifique-se de que não há vendas negativas (arredonde para cima ou defina como 0 se for negativo).\n",
        "- vendas_produto_B: Um array de 12 valores de vendas para o \"Produto B\", com média de 800 e desvio padrão de 100.\n",
        "- vendas_acessorios: Um array de 12 valores de vendas para \"Acessórios\", com média de 300 e desvio padrão de 50.\n",
        "\n",
        "Cálculos e Análise (Pandas):\n",
        "- Crie um DataFrame Pandas chamado df_vendas com as seguintes colunas: 'Mês', 'Produto A', 'Produto B', 'Acessórios'.\n",
        "- Adicione uma nova coluna ao df_vendas chamada 'Total Vendas Mensal', que será a soma das vendas de 'Produto A', 'Produto B' e 'Acessórios' para cada mês.\n",
        "- Calcule e exiba a média de vendas de cada produto ('Produto A', 'Produto B', 'Acessórios') e do 'Total Vendas Mensal' para todo o período.\n",
        "- Calcule e exiba o valor total de vendas para cada categoria de produto ('Produto A', 'Produto B', 'Acessórios') e o 'Total Vendas Mensal' acumulado.\n",
        "- Identifique e exiba o mês com o maior 'Total Vendas Mensal'.\n",
        "- Identifique e exiba o mês com a menor 'Total Vendas Mensal'."
      ],
      "metadata": {
        "id": "88kz4uZWEaON"
      }
    },
    {
      "cell_type": "code",
      "execution_count": 2,
      "metadata": {
        "id": "-84LoHR1EUHK"
      },
      "outputs": [],
      "source": [
        "import numpy as np\n",
        "import pandas as pd"
      ]
    },
    {
      "cell_type": "markdown",
      "source": [
        "###**< Numpy > Gerando valores**"
      ],
      "metadata": {
        "id": "OB0yu_2zYGRd"
      }
    },
    {
      "cell_type": "code",
      "source": [
        "meses1 = np.array([\"janeiro\", \"fevereiro\", \"março\", \"abril\", \"maio\", \"junho\",\n",
        "                 \"julho\", \"agosto\", \"setembro\", \"outubro\", \"novembro\", \"dezembro\"])"
      ],
      "metadata": {
        "id": "WBPr__nJGTLY"
      },
      "execution_count": 3,
      "outputs": []
    },
    {
      "cell_type": "code",
      "source": [
        "# gerar valores produto A\n",
        "valores_A = np.random.normal(loc=1000, scale=150, size=12) # média=1000, desvio padrão=150\n",
        "valores_positivosA = valores_A[valores_A > 0] # filtro de numeros positivos\n",
        "print(np.round(valores_positivosA, 2))"
      ],
      "metadata": {
        "colab": {
          "base_uri": "https://localhost:8080/"
        },
        "id": "sP9lOpsfJR8y",
        "outputId": "8b6585b4-6396-445b-c35a-7616f0587f61"
      },
      "execution_count": null,
      "outputs": [
        {
          "output_type": "stream",
          "name": "stdout",
          "text": [
            "[ 930.04 1155.42 1379.99 1050.21 1072.51 1232.41  926.45  971.84 1006.74\n",
            " 1219.25 1246.5  1240.01]\n"
          ]
        }
      ]
    },
    {
      "cell_type": "code",
      "source": [
        "# gerar valores produto B\n",
        "valores_B = np.random.normal(loc=800, scale=100, size=12)\n",
        "valores_positivosB = valores_B[valores_B > 0]\n",
        "print(np.round(valores_positivosB, 2))"
      ],
      "metadata": {
        "id": "xfzD6HauLPKb",
        "colab": {
          "base_uri": "https://localhost:8080/"
        },
        "outputId": "cbb7707a-eda1-4a28-9fb8-326d6f0c35ed"
      },
      "execution_count": null,
      "outputs": [
        {
          "output_type": "stream",
          "name": "stdout",
          "text": [
            "[680.44 795.25 627.6  933.37 822.95 609.49 724.79 707.74 734.26 875.22\n",
            " 701.03 828.68]\n"
          ]
        }
      ]
    },
    {
      "cell_type": "code",
      "source": [
        "# gerar valores acessorios\n",
        "valores_acessorios = np.random.normal(loc=300, scale=50, size=12)\n",
        "valores_positivos_a = valores_acessorios[valores_acessorios > 0]\n",
        "print(np.round(valores_positivos_a, 2))"
      ],
      "metadata": {
        "colab": {
          "base_uri": "https://localhost:8080/"
        },
        "id": "ZrR99kJYV73U",
        "outputId": "2c887f2f-7fb6-4a18-da3c-3dcae9be710b"
      },
      "execution_count": null,
      "outputs": [
        {
          "output_type": "stream",
          "name": "stdout",
          "text": [
            "[310.67 265.29 348.76 328.2  188.49 278.46 257.7  332.84 245.15 328.13\n",
            " 306.93 237.61]\n"
          ]
        }
      ]
    },
    {
      "cell_type": "markdown",
      "source": [
        "###**< Pandas > DataFrames**"
      ],
      "metadata": {
        "id": "XYFNj6MuYmYW"
      }
    },
    {
      "cell_type": "code",
      "source": [
        "dados = {\n",
        "    \"mes\": [\"janeiro\", \"fevereiro\", \"março\", \"abril\", \"maio\", \"junho\",\n",
        "                 \"julho\", \"agosto\", \"setembro\", \"outubro\", \"novembro\", \"dezembro\"],\n",
        "    \"Produto A\" : [ 930.04, 1155.42, 1379.99, 1050.21, 1072.51, 1232.41,  926.45,  971.84, 1006.74,\n",
        " 1219.25, 1246.5,  1240.01],\n",
        "    \"Produto B\": [680.44, 795.25, 627.6,  933.37, 822.95, 609.49, 724.79, 707.74, 734.26, 875.22,\n",
        " 701.03, 828.68],\n",
        "    \"Acessorios\" : [310.67, 265.29, 348.76, 328.2,  188.49, 278.46, 257.7,  332.84, 245.15, 328.13,\n",
        " 306.93, 237.61]\n",
        "}\n",
        "\n",
        "df_vendas = pd.DataFrame(dados)\n",
        "print(df_vendas)"
      ],
      "metadata": {
        "colab": {
          "base_uri": "https://localhost:8080/"
        },
        "id": "0_7mWgXvW4YV",
        "outputId": "2166f490-468e-49c8-d279-db48e8ae7a73"
      },
      "execution_count": 4,
      "outputs": [
        {
          "output_type": "stream",
          "name": "stdout",
          "text": [
            "          mes  Produto A  Produto B  Acessorios\n",
            "0     janeiro     930.04     680.44      310.67\n",
            "1   fevereiro    1155.42     795.25      265.29\n",
            "2       março    1379.99     627.60      348.76\n",
            "3       abril    1050.21     933.37      328.20\n",
            "4        maio    1072.51     822.95      188.49\n",
            "5       junho    1232.41     609.49      278.46\n",
            "6       julho     926.45     724.79      257.70\n",
            "7      agosto     971.84     707.74      332.84\n",
            "8    setembro    1006.74     734.26      245.15\n",
            "9     outubro    1219.25     875.22      328.13\n",
            "10   novembro    1246.50     701.03      306.93\n",
            "11   dezembro    1240.01     828.68      237.61\n"
          ]
        }
      ]
    },
    {
      "cell_type": "code",
      "source": [
        "# Total Vendas Mensal\n",
        "df_vendas['Total Vendas Mensal'] = df_vendas['Produto A'] + df_vendas['Produto B'] + df_vendas['Acessorios']\n",
        "print(df_vendas)"
      ],
      "metadata": {
        "colab": {
          "base_uri": "https://localhost:8080/"
        },
        "id": "cxKHr362aTR3",
        "outputId": "ed74c985-ad3f-4ab2-ef01-7998c359873a"
      },
      "execution_count": 5,
      "outputs": [
        {
          "output_type": "stream",
          "name": "stdout",
          "text": [
            "          mes  Produto A  Produto B  Acessorios  Total Vendas Mensal\n",
            "0     janeiro     930.04     680.44      310.67              1921.15\n",
            "1   fevereiro    1155.42     795.25      265.29              2215.96\n",
            "2       março    1379.99     627.60      348.76              2356.35\n",
            "3       abril    1050.21     933.37      328.20              2311.78\n",
            "4        maio    1072.51     822.95      188.49              2083.95\n",
            "5       junho    1232.41     609.49      278.46              2120.36\n",
            "6       julho     926.45     724.79      257.70              1908.94\n",
            "7      agosto     971.84     707.74      332.84              2012.42\n",
            "8    setembro    1006.74     734.26      245.15              1986.15\n",
            "9     outubro    1219.25     875.22      328.13              2422.60\n",
            "10   novembro    1246.50     701.03      306.93              2254.46\n",
            "11   dezembro    1240.01     828.68      237.61              2306.30\n"
          ]
        }
      ]
    },
    {
      "cell_type": "code",
      "source": [
        "# Calculando as médias\n",
        "media_prod_A = np.mean(df_vendas['Produto A'])\n",
        "print(\"Média produto A: R$\", round(media_prod_A, 2))\n",
        "media_prod_B = np.mean(df_vendas['Produto B'])\n",
        "print(\"Média produto B: R$\", round(media_prod_B, 2))\n",
        "media_acessorios = np.mean(df_vendas['Acessorios'])\n",
        "print(\"Média acessórios: R$\", round(media_acessorios, 2))"
      ],
      "metadata": {
        "colab": {
          "base_uri": "https://localhost:8080/"
        },
        "id": "WT_FHZO5GkSl",
        "outputId": "c6a68df1-10d0-49bf-ccd0-7c11032cefcf"
      },
      "execution_count": 27,
      "outputs": [
        {
          "output_type": "stream",
          "name": "stdout",
          "text": [
            "Média produto A: R$ 1119.28\n",
            "Média produto B: R$ 753.4\n",
            "Média acessórios: R$ 285.69\n"
          ]
        }
      ]
    },
    {
      "cell_type": "code",
      "source": [
        "# Total de vendas acumuladas\n",
        "total_vendas = np.sum(df_vendas['Total Vendas Mensal'])\n",
        "print(\"Total de vendas acumuladas: R$\", round(total_vendas, 2))"
      ],
      "metadata": {
        "colab": {
          "base_uri": "https://localhost:8080/"
        },
        "id": "oHq-Oc6_Jty5",
        "outputId": "909093a3-99c7-4fab-a770-cd3e09cfb192"
      },
      "execution_count": 37,
      "outputs": [
        {
          "output_type": "stream",
          "name": "stdout",
          "text": [
            "Total de vendas acumuladas: R$ 25900.42\n"
          ]
        }
      ]
    },
    {
      "cell_type": "code",
      "source": [
        "# Mes com maior e menor total de vendas\n",
        "mes_maior_venda = df_vendas.loc[df_vendas[\"Total Vendas Mensal\"].idxmax(), \"mes\"]\n",
        "mes_menor_venda = df_vendas.loc[df_vendas[\"Total Vendas Mensal\"].idxmin(), \"mes\"]\n",
        "print(\"Mês com MAIOR total de vendas:\", mes_maior_venda, \" - R$\", round(df_vendas[\"Total Vendas Mensal\"].max(), 2))\n",
        "print(\"Mês com MENOR total de vendas:\", mes_menor_venda, \" - R$\", round(df_vendas[\"Total Vendas Mensal\"].min(), 2))"
      ],
      "metadata": {
        "colab": {
          "base_uri": "https://localhost:8080/"
        },
        "id": "EQ0u31tDLoLM",
        "outputId": "1bdca8bf-acaa-42a1-fb84-37bea1a99165"
      },
      "execution_count": 52,
      "outputs": [
        {
          "output_type": "stream",
          "name": "stdout",
          "text": [
            "Mês com MAIOR total de vendas: outubro  - R$ 2422.6\n",
            "Mês com MENOR total de vendas: julho  - R$ 1908.94\n"
          ]
        }
      ]
    }
  ]
}